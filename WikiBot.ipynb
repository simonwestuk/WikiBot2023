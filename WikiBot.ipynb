{
 "cells": [
  {
   "cell_type": "markdown",
   "metadata": {},
   "source": [
    "## WikiBot v1.0"
   ]
  },
  {
   "cell_type": "code",
   "execution_count": 3,
   "metadata": {},
   "outputs": [
    {
     "name": "stderr",
     "output_type": "stream",
     "text": [
      "[nltk_data] Downloading package punkt to\n",
      "[nltk_data]     C:\\Users\\wests\\AppData\\Roaming\\nltk_data...\n",
      "[nltk_data]   Package punkt is already up-to-date!\n"
     ]
    }
   ],
   "source": [
    "import urllib.request # for making requests to the wikipedia page\n",
    "import requests # for making requests to the wikipedia page\n",
    "import nltk # for natural language processing\n",
    "import bs4 as bsoup # for parsing the html\n",
    "import re # for regular expressions\n",
    "\n",
    "nltk.download('punkt') # for tokenizing the text\n",
    "from sklearn.feature_extraction.text import TfidfVectorizer # for vectorizing the text\n",
    "from sklearn.metrics.pairwise import cosine_similarity # for calculating the similarity between the vectors"
   ]
  },
  {
   "cell_type": "code",
   "execution_count": 4,
   "metadata": {},
   "outputs": [
    {
     "name": "stdout",
     "output_type": "stream",
     "text": [
      "For this reason, many smaller farmers still favor old breeds, such as the jersey dairy breed.\n",
      "Goodbye!\n"
     ]
    }
   ],
   "source": [
    "topic = input(\"What is the topic you would like to dicuss?\")\n",
    "topic = topic.title() # capitalize the first letter of each word in the topic\n",
    "topic = topic.replace(\" \", \"_\") # replace the spaces in the topic with underscores\n",
    "\n",
    "url = \"https://en.wikipedia.org/wiki/\" + topic # the url of the wikipedia page\n",
    "get = requests.get(url) # get the page\n",
    "\n",
    "if get.status_code == 200:# if the page is found\n",
    "    data = urllib.request.urlopen(url).read() # read the page\n",
    "    text = bsoup.BeautifulSoup(data, \"html.parser\").find_all('p')\n",
    "    corpus = ''\n",
    "    \n",
    "    for t in text:\n",
    "        corpus += t.text.lower() # get the text from the page\n",
    "        \n",
    "    corpus = re.sub(r'\\[[0-9]*\\]', ' ', corpus) # remove the numbers in the text\n",
    "    corpus = re.sub(r'\\s+', ' ', corpus) # remove the extra spaces in the text\n",
    "    sentences = nltk.sent_tokenize(corpus) # tokenize the text\n",
    "else:\n",
    "    print(\"Not a topic I would like to dicuss.\")\n",
    "    \n",
    "def get_response(user_question):\n",
    "    \n",
    "    user_question = user_question.replace(\"?\", \"\") # remove the question mark from the user question\n",
    "    user_question = user_question.replace(\"they\", topic)\n",
    "    user_question = user_question.replace(\"it\", topic)\n",
    "    \n",
    "    sentences.append(user_question) # add the user question to the list of sentences\n",
    "    tfidf = TfidfVectorizer() # create a tfidf vectorizer\n",
    "    vectors = tfidf.fit_transform(sentences) # fit the vectorizer to the sentences\n",
    "    similarity = cosine_similarity(vectors[-1], vectors) # calculate the similarity between the user question and the sentences\n",
    "    answer = sentences[similarity.argsort()[0][-2]] # get the index of the sentence with the highest similarity\n",
    "    sentences.pop() # remove the user question from the list of sentences\n",
    "    return answer.capitalize() # return the answer\n",
    "\n",
    "answer = \"\"\n",
    "while answer != \"bye\":\n",
    "    answer = input(\"What is you question?\").lower()\n",
    "    if answer.lower() == \"bye\":\n",
    "        print(\"Goodbye!\")\n",
    "        corpus = \"\"\n",
    "    else:\n",
    "        print(get_response(answer))\n"
   ]
  }
 ],
 "metadata": {
  "kernelspec": {
   "display_name": "Python 3.9.5 64-bit",
   "language": "python",
   "name": "python3"
  },
  "language_info": {
   "codemirror_mode": {
    "name": "ipython",
    "version": 3
   },
   "file_extension": ".py",
   "mimetype": "text/x-python",
   "name": "python",
   "nbconvert_exporter": "python",
   "pygments_lexer": "ipython3",
   "version": "3.9.5"
  },
  "orig_nbformat": 4,
  "vscode": {
   "interpreter": {
    "hash": "c347c8f9a7ef94e4c9e03b4513be7835ed18f45b99a2a817fb579f408b867b16"
   }
  }
 },
 "nbformat": 4,
 "nbformat_minor": 2
}
